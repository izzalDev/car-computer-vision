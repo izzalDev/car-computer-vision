{
 "cells": [
  {
   "cell_type": "code",
   "execution_count": 1,
   "metadata": {},
   "outputs": [
    {
     "name": "stderr",
     "output_type": "stream",
     "text": [
      "/opt/homebrew/Caskroom/miniconda/base/envs/comvis/lib/python3.10/site-packages/keras/src/layers/convolutional/base_conv.py:107: UserWarning: Do not pass an `input_shape`/`input_dim` argument to a layer. When using Sequential models, prefer using an `Input(shape)` object as the first layer in the model instead.\n",
      "  super().__init__(activity_regularizer=activity_regularizer, **kwargs)\n",
      "2024-06-08 10:28:46.745140: I metal_plugin/src/device/metal_device.cc:1154] Metal device set to: Apple M1\n",
      "2024-06-08 10:28:46.745205: I metal_plugin/src/device/metal_device.cc:296] systemMemory: 8.00 GB\n",
      "2024-06-08 10:28:46.745215: I metal_plugin/src/device/metal_device.cc:313] maxCacheSize: 2.67 GB\n",
      "2024-06-08 10:28:46.745458: I tensorflow/core/common_runtime/pluggable_device/pluggable_device_factory.cc:305] Could not identify NUMA node of platform GPU ID 0, defaulting to 0. Your kernel may not have been built with NUMA support.\n",
      "2024-06-08 10:28:46.745476: I tensorflow/core/common_runtime/pluggable_device/pluggable_device_factory.cc:271] Created TensorFlow device (/job:localhost/replica:0/task:0/device:GPU:0 with 0 MB memory) -> physical PluggableDevice (device: 0, name: METAL, pci bus id: <undefined>)\n"
     ]
    },
    {
     "name": "stdout",
     "output_type": "stream",
     "text": [
      "Epoch 1/10\n"
     ]
    },
    {
     "ename": "",
     "evalue": "",
     "output_type": "error",
     "traceback": [
      "\u001b[1;31mThe Kernel crashed while executing code in the current cell or a previous cell. \n",
      "\u001b[1;31mPlease review the code in the cell(s) to identify a possible cause of the failure. \n",
      "\u001b[1;31mClick <a href='https://aka.ms/vscodeJupyterKernelCrash'>here</a> for more info. \n",
      "\u001b[1;31mView Jupyter <a href='command:jupyter.viewOutput'>log</a> for further details."
     ]
    }
   ],
   "source": [
    "import os\n",
    "import cv2\n",
    "import numpy as np\n",
    "import tensorflow as tf\n",
    "from tensorflow.keras import layers, models\n",
    "from sklearn.model_selection import train_test_split\n",
    "from sklearn.preprocessing import LabelEncoder\n",
    "\n",
    "# Fungsi untuk memuat gambar-gambar dari folder\n",
    "def load_images_and_labels(data_dir):\n",
    "    images = []\n",
    "    labels = []\n",
    "    for root, dirs, files in os.walk(data_dir):\n",
    "        for file in files:\n",
    "            if file.endswith('.jpg'):\n",
    "                image_path = os.path.join(root, file)\n",
    "                image = cv2.imread(image_path)\n",
    "                images.append(image)\n",
    "                labels.append(os.path.basename(root))\n",
    "    return images, labels\n",
    "\n",
    "# Fungsi untuk memuat dan memproses gambar dari folder\n",
    "def preprocess_images(images):\n",
    "    cascade = cv2.CascadeClassifier('data/recognition/cars.xml')\n",
    "    processed_images = []\n",
    "    for image in images:\n",
    "        image = cv2.resize(image, (16, 16))\n",
    "        processed_images.append(image)\n",
    "    return np.array(processed_images)\n",
    "\n",
    "# Definisikan model CNN sederhana\n",
    "def create_simple_cnn(input_shape, num_classes):\n",
    "    model = models.Sequential([\n",
    "        # Layer konvolusi pertama dengan 32 filter, ukuran kernel 3x3, dan fungsi aktivasi ReLU\n",
    "        layers.Conv2D(32, (3, 3), activation='relu', input_shape=input_shape),\n",
    "        # Layer pooling untuk mereduksi dimensi\n",
    "        layers.MaxPooling2D((2, 2)),\n",
    "        # Layer konvolusi kedua dengan 64 filter, ukuran kernel 3x3, dan fungsi aktivasi ReLU\n",
    "        layers.Conv2D(64, (3, 3), activation='relu'),\n",
    "        # Layer pooling untuk mereduksi dimensi\n",
    "        layers.MaxPooling2D((2, 2)),\n",
    "        # Flatten layer untuk mengubah matriks menjadi vektor\n",
    "        layers.Flatten(),\n",
    "        # Fully connected layer dengan 64 unit dan fungsi aktivasi ReLU\n",
    "        layers.Dense(64, activation='relu'),\n",
    "        # Output layer dengan num_classes unit dan fungsi aktivasi softmax\n",
    "        layers.Dense(num_classes, activation='softmax')\n",
    "    ])\n",
    "    return model\n",
    "\n",
    "# Tentukan ukuran gambar input dan jumlah kelas\n",
    "input_shape = (16, 16, 3)  # Ukuran gambar 16x16 pixel dengan 3 channel (RGB)\n",
    "num_classes = 4  # Contoh jumlah kelas\n",
    "\n",
    "# Buat model CNN\n",
    "model = create_simple_cnn(input_shape, num_classes)\n",
    "\n",
    "# Compile model dengan optimizer, fungsi loss, dan metrik yang sesuai\n",
    "model.compile(optimizer='adam',\n",
    "              loss='sparse_categorical_crossentropy',\n",
    "              metrics=['accuracy'])\n",
    "\n",
    "# Muat dan praproses gambar-gambar dari folder\n",
    "folder = 'data/classification'\n",
    "X, y = load_images_and_labels(folder)\n",
    "X = preprocess_images(X)\n",
    "LabelEncoder = LabelEncoder()\n",
    "y = LabelEncoder.fit_transform(y)\n",
    "\n",
    "X_train, X_test, y_train, y_test = train_test_split(X, y, test_size=0.2, random_state=42)\n",
    "\n",
    "\n",
    "# Label-data\n",
    "# Misalnya, kita asumsikan semua gambar dalam folder tersebut merupakan kelas 0\n",
    "# Anda perlu menyesuaikan dengan struktur folder dan label-data yang sesuai\n",
    "\n",
    "# Latih model dengan gambar-gambar dari folder\n",
    "model.fit(X_train, y_train, epochs=10, batch_size=32)\n",
    "\n",
    "# Evaluasi model jika diperlukan\n",
    "# loss, accuracy = model.evaluate(X_test, y_test)"
   ]
  }
 ],
 "metadata": {
  "kernelspec": {
   "display_name": "comvis",
   "language": "python",
   "name": "python3"
  },
  "language_info": {
   "codemirror_mode": {
    "name": "ipython",
    "version": 3
   },
   "file_extension": ".py",
   "mimetype": "text/x-python",
   "name": "python",
   "nbconvert_exporter": "python",
   "pygments_lexer": "ipython3",
   "version": "3.10.8"
  }
 },
 "nbformat": 4,
 "nbformat_minor": 2
}
